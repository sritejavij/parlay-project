{
  "nbformat": 4,
  "nbformat_minor": 0,
  "metadata": {
    "colab": {
      "provenance": []
    },
    "kernelspec": {
      "name": "python3",
      "display_name": "Python 3"
    },
    "language_info": {
      "name": "python"
    }
  },
  "cells": [
    {
      "cell_type": "code",
      "execution_count": null,
      "metadata": {
        "id": "MyXwLBIOFjWS"
      },
      "outputs": [],
      "source": [
        "import numpy as np\n",
        "import json\n",
        "import os\n",
        "from sklearn.cluster import KMeans\n",
        "import pandas as pd\n",
        "from collections import defaultdict"
      ]
    },
    {
      "cell_type": "code",
      "source": [
        "from google.colab import drive\n",
        "drive.mount('/content/drive')"
      ],
      "metadata": {
        "colab": {
          "base_uri": "https://localhost:8080/"
        },
        "id": "e9-vJOv7N_sA",
        "outputId": "64d0b984-bd0f-48df-bcc0-3d92d495ced6"
      },
      "execution_count": null,
      "outputs": [
        {
          "output_type": "stream",
          "name": "stdout",
          "text": [
            "Mounted at /content/drive\n"
          ]
        }
      ]
    },
    {
      "cell_type": "code",
      "source": [
        "file_path = \"/content/drive/MyDrive/parlay code/player data/\"\n",
        "def get_file(team):\n",
        "  return file_path + \"3_4_2024_\" + team + \"_statistics.json\""
      ],
      "metadata": {
        "id": "uuDzRQZ8M9fC"
      },
      "execution_count": null,
      "outputs": []
    },
    {
      "cell_type": "code",
      "source": [
        "# CODE FOR PARSING THROUGH JSON FILES IN DIRECTORY #\n",
        "#                                                  #\n",
        "\n",
        "def load_files(player_data, data_point): # player_data is the dictionary we are loading the player stats into\n",
        "  for file in os.listdir(file_path):\n",
        "    f = os.path.join(file_path, file)\n",
        "    if os.path.isfile(f):\n",
        "      i1 = f.find(\"2024_\")\n",
        "      i2 = f.find(\"_statistics\")\n",
        "      filename = f[i1+5:i2]\n",
        "\n",
        "      with open(get_file(filename), 'r') as json_data:\n",
        "        data_dict = json.load(json_data)\n",
        "\n",
        "      players = data_dict['players']\n",
        "      player_points_per_game = player_data\n",
        "\n",
        "      for player in players:\n",
        "          name = player['full_name']\n",
        "          total_data_points = player['total'][data_point]\n",
        "          games_played = player['total']['games_played']\n",
        "          data_points_per_game = total_data_points / games_played if games_played else 0\n",
        "          player_minutes_per_game = avg_minutes_per_game = player['total']['minutes'] / games_played if games_played else 0\n",
        "\n",
        "          ## BELOW CODE TO FILTER OUT IRRELEVANT PLAYERS ##\n",
        "          if player_minutes_per_game >= 20:\n",
        "            if data_point == \"points\":\n",
        "              if data_points_per_game >= 7:\n",
        "                player_points_per_game[name] = data_points_per_game\n",
        "            elif data_point == \"rebounds\":\n",
        "              if data_points_per_game >= 4:\n",
        "                player_points_per_game[name] = data_points_per_game\n",
        "            elif data_point == \"assists\":\n",
        "              if data_points_per_game >= 3:\n",
        "                player_points_per_game[name] = data_points_per_game"
      ],
      "metadata": {
        "id": "CsvV2CjyOkWr"
      },
      "execution_count": null,
      "outputs": []
    },
    {
      "cell_type": "code",
      "source": [
        "## DEFINING OUR DATAPOINTS ##\n",
        "player_points = {}\n",
        "player_rebounds = {}\n",
        "player_assists = {}\n",
        "\n",
        "load_files(player_points, \"points\")\n",
        "load_files(player_rebounds, \"rebounds\")\n",
        "load_files(player_assists, \"assists\")"
      ],
      "metadata": {
        "id": "qFE7260xOx03"
      },
      "execution_count": null,
      "outputs": []
    },
    {
      "cell_type": "code",
      "source": [
        "## PERFORMING K-MEANS ##\n",
        "\n",
        "points = np.array(list(player_points.values())).reshape(-1,1)\n",
        "rebounds = np.array(list(player_rebounds.values())).reshape(-1,1)\n",
        "assists = np.array(list(player_assists.values())).reshape(-1,1)\n",
        "\n",
        "kmeans1 = KMeans(n_clusters=8, n_init=10, random_state=42)\n",
        "kmeans2 = KMeans(n_clusters=8, n_init=10, random_state=43)\n",
        "kmeans3 = KMeans(n_clusters=8, n_init=10, random_state=44)\n",
        "\n",
        "points_cluster = defaultdict(list)\n",
        "rebounds_cluster = defaultdict(list)\n",
        "assists_cluster = defaultdict(list)\n",
        "\n",
        "kmeans1.fit(points)\n",
        "points_labels = kmeans1.labels_\n",
        "\n",
        "kmeans2.fit(rebounds)\n",
        "rebounds_labels = kmeans2.labels_\n",
        "\n",
        "kmeans3.fit(assists)\n",
        "assists_labels = kmeans3.labels_\n",
        "\n",
        "\n",
        "points_cluster_map = pd.DataFrame()\n",
        "rebounds_cluster_map = pd.DataFrame()\n",
        "assists_cluster_map = pd.DataFrame()\n",
        "\n",
        "points_cluster_map['player_name'] = list(player_points.keys())\n",
        "points_cluster_map['data_index'] = list(player_points.values())\n",
        "points_cluster_map['cluster'] = points_labels\n",
        "\n",
        "rebounds_cluster_map['player_name'] = list(player_rebounds.keys())\n",
        "rebounds_cluster_map['data_index'] = list(player_rebounds.values())\n",
        "rebounds_cluster_map['cluster'] = rebounds_labels\n",
        "\n",
        "assists_cluster_map['player_name'] = list(player_assists.keys())\n",
        "assists_cluster_map['data_index'] = list(player_assists.values())\n",
        "assists_cluster_map['cluster'] = assists_labels\n",
        "\n",
        "for i in range(8):\n",
        "  points_cluster[i].extend(points_cluster_map[points_cluster_map.cluster==i]['player_name'].tolist())\n",
        "  rebounds_cluster[i].extend(rebounds_cluster_map[rebounds_cluster_map.cluster==i]['player_name'].tolist())\n",
        "  assists_cluster[i].extend(assists_cluster_map[assists_cluster_map.cluster==i]['player_name'].tolist())"
      ],
      "metadata": {
        "id": "yk7fwNAIPOkN"
      },
      "execution_count": null,
      "outputs": []
    },
    {
      "cell_type": "code",
      "source": [
        "print(assists_cluster[0])"
      ],
      "metadata": {
        "colab": {
          "base_uri": "https://localhost:8080/"
        },
        "id": "delN1UX9eC_4",
        "outputId": "21f0e36f-6e59-4583-a7da-7484ac9f235b"
      },
      "execution_count": null,
      "outputs": [
        {
          "output_type": "stream",
          "name": "stdout",
          "text": [
            "['Dejounte Murray', 'Draymond Green', 'Tre Jones', 'Ben Simmons', 'Austin Reaves', \"De'Aaron Fox\", 'Malcolm Brogdon', 'Brandon Ingram', 'Vasilije Micic', 'Terry Rozier', 'Kevin Durant', 'Buddy Hield', 'Kyle Lowry', 'Joel Embiid']\n"
          ]
        }
      ]
    },
    {
      "cell_type": "code",
      "source": [],
      "metadata": {
        "id": "hbQ8zX0Aqip_"
      },
      "execution_count": null,
      "outputs": []
    }
  ]
}